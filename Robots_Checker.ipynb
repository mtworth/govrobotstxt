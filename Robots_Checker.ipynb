{
  "nbformat": 4,
  "nbformat_minor": 0,
  "metadata": {
    "colab": {
      "provenance": []
    },
    "kernelspec": {
      "name": "python3",
      "display_name": "Python 3"
    },
    "language_info": {
      "name": "python"
    }
  },
  "cells": [
    {
      "cell_type": "markdown",
      "source": [
        "**Import Government Data**"
      ],
      "metadata": {
        "id": "IXuaHfDLjyLl"
      }
    },
    {
      "cell_type": "code",
      "execution_count": 50,
      "metadata": {
        "id": "JM06MRn6JcqL"
      },
      "outputs": [],
      "source": [
        "import pandas as pd\n",
        "gov_websites = pd.read_csv(\"https://raw.githubusercontent.com/cisagov/dotgov-data/main/current-full.csv\")\n",
        "gov_websites['URL'] = 'http://' + gov_websites['Domain name']\n"
      ]
    },
    {
      "cell_type": "markdown",
      "source": [
        "**Define Function for Grabbing Robots.Txt**"
      ],
      "metadata": {
        "id": "GPdbE2Y8j0qT"
      }
    },
    {
      "cell_type": "code",
      "source": [
        "import urllib.robotparser\n",
        "import urllib.request\n",
        "import socket\n",
        "from http.client import RemoteDisconnected\n",
        "\n",
        "def check_robots_txt(url):\n",
        "    rp = urllib.robotparser.RobotFileParser()\n",
        "    robots_txt_url = f\"{url}/robots.txt\"\n",
        "\n",
        "    try:\n",
        "        # Set the timeout for the request\n",
        "        with urllib.request.urlopen(robots_txt_url, timeout=10) as response:\n",
        "            if response.status != 200:\n",
        "                return (False, [])\n",
        "\n",
        "        rp.set_url(robots_txt_url)\n",
        "        rp.read()\n",
        "\n",
        "        user_agents = set()\n",
        "\n",
        "        for entry in rp.entries:\n",
        "            for useragent in entry.useragents:\n",
        "                user_agents.add(useragent)\n",
        "\n",
        "        return (True, list(user_agents))\n",
        "\n",
        "    except (urllib.error.URLError, socket.timeout, RemoteDisconnected) as e:\n",
        "        print(f\"Error accessing {robots_txt_url}: {e}\")\n",
        "        return (False, [])\n",
        "\n"
      ],
      "metadata": {
        "id": "HfJEadRkP6sV"
      },
      "execution_count": null,
      "outputs": []
    },
    {
      "cell_type": "markdown",
      "source": [
        "**Multithreaded Implementation for Speed**"
      ],
      "metadata": {
        "id": "ao2KGGuPj4uV"
      }
    },
    {
      "cell_type": "code",
      "source": [
        "\n",
        "from concurrent.futures import ThreadPoolExecutor, as_completed\n",
        "\n",
        "def process_urls_multithreaded(df):\n",
        "    urls = df['URL'].tolist()\n",
        "    results = [None] * len(urls)\n",
        "\n",
        "    def worker(url, index):\n",
        "        results[index] = check_robots_txt(url)\n",
        "\n",
        "    # Create a ThreadPoolExecutor\n",
        "    with ThreadPoolExecutor(max_workers=20) as executor:\n",
        "        # Submit all tasks to the executor\n",
        "        futures = [executor.submit(worker, url, i) for i, url in enumerate(urls)]\n",
        "\n",
        "        # Ensure all futures are completed\n",
        "        for future in as_completed(futures):\n",
        "            try:\n",
        "                # No need to do anything here; results are collected in worker\n",
        "                pass\n",
        "            except Exception as e:\n",
        "                print(f\"Exception occurred: {e}\")\n",
        "\n",
        "    # Convert results to DataFrame and update the original DataFrame\n",
        "    results_df = pd.DataFrame(results, columns=['HasRobotsTxt', 'UserAgents'])\n",
        "    df[['HasRobotsTxt', 'UserAgents']] = results_df\n",
        "\n",
        "# Process URLs with multithreading\n",
        "process_urls_multithreaded(gov_websites)"
      ],
      "metadata": {
        "id": "2WHNqwoxWbbs"
      },
      "execution_count": null,
      "outputs": []
    }
  ]
}